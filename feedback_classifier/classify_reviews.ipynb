{
 "cells": [
  {
   "cell_type": "code",
   "execution_count": 1,
   "id": "79cb5a1c-c12c-4b3b-9fcd-80345038be54",
   "metadata": {},
   "outputs": [
    {
     "name": "stderr",
     "output_type": "stream",
     "text": [
      "Device set to use mps:0\n"
     ]
    }
   ],
   "source": [
    "from transformers import pipeline\n",
    "\n",
    "# Используем модель для анализа тональности на русском языке\n",
    "classifier = pipeline(\n",
    "    \"sentiment-analysis\", \n",
    "    model=\"blanchefort/rubert-base-cased-sentiment\"\n",
    ")"
   ]
  },
  {
   "cell_type": "code",
   "execution_count": 2,
   "id": "b19f73a7-220a-4c7c-9e50-eb6c869e8cab",
   "metadata": {},
   "outputs": [],
   "source": [
    "async def classify_reviews(reviews):\n",
    "    results = {\n",
    "        \"positive\": [],\n",
    "        \"negative\": []\n",
    "    }\n",
    "    \n",
    "    for review in reviews:\n",
    "        sentiment = classifier(review)[0]\n",
    "        label = sentiment['label']\n",
    "        \n",
    "        # Переводим метки модели в наши категории\n",
    "        if label == \"POSITIVE\":\n",
    "            results['positive'].append((review, sentiment['score']))\n",
    "        elif label == \"NEGATIVE\":\n",
    "            results['negative'].append((review, sentiment['score']))\n",
    "    \n",
    "    return results"
   ]
  },
  {
   "cell_type": "code",
   "execution_count": 3,
   "id": "773d8849-6076-4a50-a4a7-f4ce6bba74f5",
   "metadata": {},
   "outputs": [],
   "source": [
    "reviews = [\n",
    "    \"фигня идея. Ярик поехали отсюда!\",\n",
    "    \"Неплохо, обязательно воспользуюсь этим еще раз.\",\n",
    "    \"Очень круто, молодцы! Разрабы красавы!!!!\",\n",
    "    \"Всего лишь еще один развод на деньги.\",\n",
    "    \"Невероятно!\"\n",
    "]"
   ]
  },
  {
   "cell_type": "code",
   "execution_count": 4,
   "id": "f8270162-7fa3-4c3d-93ab-f2152f887aba",
   "metadata": {},
   "outputs": [
    {
     "data": {
      "text/plain": [
       "{'positive': [('Неплохо, обязательно воспользуюсь этим еще раз.',\n",
       "   0.8527155518531799),\n",
       "  ('Очень круто, молодцы! Разрабы красавы!!!!', 0.9804496765136719)],\n",
       " 'negative': [('фигня идея. Ярик поехали отсюда!', 0.7515854835510254),\n",
       "  ('Невероятно!', 0.7516923546791077)]}"
      ]
     },
     "execution_count": 4,
     "metadata": {},
     "output_type": "execute_result"
    }
   ],
   "source": [
    "classified_reviews = await classify_reviews(reviews)\n",
    "classified_reviews"
   ]
  },
  {
   "cell_type": "code",
   "execution_count": 5,
   "id": "35e129de-2372-4a2e-9d27-bc8c0bf7d607",
   "metadata": {},
   "outputs": [
    {
     "name": "stdout",
     "output_type": "stream",
     "text": [
      "\n",
      "Positive отзывы:\n",
      "  - Неплохо, обязательно воспользуюсь этим еще раз. (Уверенность: 0.85)\n",
      "  - Очень круто, молодцы! Разрабы красавы!!!! (Уверенность: 0.98)\n",
      "\n",
      "Negative отзывы:\n",
      "  - фигня идея. Ярик поехали отсюда! (Уверенность: 0.75)\n",
      "  - Невероятно! (Уверенность: 0.75)\n"
     ]
    }
   ],
   "source": [
    "for sentiment, items in classified_reviews.items():\n",
    "    print(f\"\\n{sentiment.capitalize()} отзывы:\")\n",
    "    for review, score in items:\n",
    "        print(f\"  - {review} (Уверенность: {score:.2f})\")"
   ]
  },
  {
   "cell_type": "code",
   "execution_count": null,
   "id": "76195b5f-8892-4dea-a998-013c5ae7d938",
   "metadata": {},
   "outputs": [],
   "source": []
  }
 ],
 "metadata": {
  "kernelspec": {
   "display_name": "Python 3 (ipykernel)",
   "language": "python",
   "name": "python3"
  },
  "language_info": {
   "codemirror_mode": {
    "name": "ipython",
    "version": 3
   },
   "file_extension": ".py",
   "mimetype": "text/x-python",
   "name": "python",
   "nbconvert_exporter": "python",
   "pygments_lexer": "ipython3",
   "version": "3.9.0"
  }
 },
 "nbformat": 4,
 "nbformat_minor": 5
}
