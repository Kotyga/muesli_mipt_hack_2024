{
 "cells": [
  {
   "cell_type": "markdown",
   "id": "1d117ed0",
   "metadata": {},
   "source": [
    "# Автор Максим Зимаков"
   ]
  },
  {
   "cell_type": "code",
   "execution_count": 5,
   "id": "8375442f-45a1-467d-b97d-1541a4c1acb6",
   "metadata": {},
   "outputs": [],
   "source": [
    "import pandas as pd\n",
    "df = pd.read_csv('data/hack.csv')"
   ]
  },
  {
   "cell_type": "code",
   "execution_count": 7,
   "id": "80690b05-e0b3-4bf8-a31d-4680be5e9dea",
   "metadata": {},
   "outputs": [
    {
     "data": {
      "text/html": [
       "<div>\n",
       "<style scoped>\n",
       "    .dataframe tbody tr th:only-of-type {\n",
       "        vertical-align: middle;\n",
       "    }\n",
       "\n",
       "    .dataframe tbody tr th {\n",
       "        vertical-align: top;\n",
       "    }\n",
       "\n",
       "    .dataframe thead th {\n",
       "        text-align: right;\n",
       "    }\n",
       "</style>\n",
       "<table border=\"1\" class=\"dataframe\">\n",
       "  <thead>\n",
       "    <tr style=\"text-align: right;\">\n",
       "      <th></th>\n",
       "      <th>Name</th>\n",
       "      <th>WikiData</th>\n",
       "      <th>City</th>\n",
       "      <th>Lon</th>\n",
       "      <th>Lat</th>\n",
       "      <th>description</th>\n",
       "      <th>image</th>\n",
       "      <th>en_txt</th>\n",
       "      <th>category</th>\n",
       "    </tr>\n",
       "  </thead>\n",
       "  <tbody>\n",
       "    <tr>\n",
       "      <th>0</th>\n",
       "      <td>Динамо</td>\n",
       "      <td>Q37996725</td>\n",
       "      <td>Екатеринбург</td>\n",
       "      <td>60.600349</td>\n",
       "      <td>56.845398</td>\n",
       "      <td>спорткомплекс в Екатеринбурге</td>\n",
       "      <td>/9j/4AAQSkZJRgABAQAAAQABAAD/2wBDAAUEBAUEAwUFBA...</td>\n",
       "      <td>arafed building with a blue and white exterior...</td>\n",
       "      <td>Спортивное сооружение</td>\n",
       "    </tr>\n",
       "    <tr>\n",
       "      <th>1</th>\n",
       "      <td>Динамо</td>\n",
       "      <td>Q37996725</td>\n",
       "      <td>Екатеринбург</td>\n",
       "      <td>60.600349</td>\n",
       "      <td>56.845398</td>\n",
       "      <td>спорткомплекс в Екатеринбурге</td>\n",
       "      <td>/9j/4AAQSkZJRgABAQAAAQABAAD/2wBDAAUEBAUEAwUFBA...</td>\n",
       "      <td>aerial view of a city with a soccer field and ...</td>\n",
       "      <td>Спортивное сооружение</td>\n",
       "    </tr>\n",
       "    <tr>\n",
       "      <th>2</th>\n",
       "      <td>Динамо</td>\n",
       "      <td>Q37996725</td>\n",
       "      <td>Екатеринбург</td>\n",
       "      <td>60.600349</td>\n",
       "      <td>56.845398</td>\n",
       "      <td>спорткомплекс в Екатеринбурге</td>\n",
       "      <td>/9j/4AAQSkZJRgABAQAAAQABAAD/2wBDAAUEBAUEAwUFBA...</td>\n",
       "      <td>a view of a building with a clock tower on top...</td>\n",
       "      <td>Спортивное сооружение</td>\n",
       "    </tr>\n",
       "    <tr>\n",
       "      <th>3</th>\n",
       "      <td>Динамо</td>\n",
       "      <td>Q37996725</td>\n",
       "      <td>Екатеринбург</td>\n",
       "      <td>60.600349</td>\n",
       "      <td>56.845398</td>\n",
       "      <td>спорткомплекс в Екатеринбурге</td>\n",
       "      <td>/9j/4AAQSkZJRgABAQAAAQABAAD/2wBDAAUEBAUEAwUFBA...</td>\n",
       "      <td>arafed building with a blue and white sign on it</td>\n",
       "      <td>Спортивное сооружение</td>\n",
       "    </tr>\n",
       "    <tr>\n",
       "      <th>4</th>\n",
       "      <td>Динамо</td>\n",
       "      <td>Q37996725</td>\n",
       "      <td>Екатеринбург</td>\n",
       "      <td>60.600349</td>\n",
       "      <td>56.845398</td>\n",
       "      <td>спорткомплекс в Екатеринбурге</td>\n",
       "      <td>/9j/4AAQSkZJRgABAQAAAQABAAD/2wBDAAUEBAUEAwUFBA...</td>\n",
       "      <td>arafed building with a blue and white sign on ...</td>\n",
       "      <td>Спортивное сооружение</td>\n",
       "    </tr>\n",
       "    <tr>\n",
       "      <th>...</th>\n",
       "      <td>...</td>\n",
       "      <td>...</td>\n",
       "      <td>...</td>\n",
       "      <td>...</td>\n",
       "      <td>...</td>\n",
       "      <td>...</td>\n",
       "      <td>...</td>\n",
       "      <td>...</td>\n",
       "      <td>...</td>\n",
       "    </tr>\n",
       "    <tr>\n",
       "      <th>5477</th>\n",
       "      <td>Ярославское художественное училище</td>\n",
       "      <td>Q4538931</td>\n",
       "      <td>Ярославль</td>\n",
       "      <td>39.876846</td>\n",
       "      <td>57.609852</td>\n",
       "      <td>Ярославское художественное училище</td>\n",
       "      <td>/9j/4AAQSkZJRgABAQAAAQABAAD/2wBDAAUEBAUEAwUFBA...</td>\n",
       "      <td>arafed building with a large arched window and...</td>\n",
       "      <td>Учебное заведение</td>\n",
       "    </tr>\n",
       "    <tr>\n",
       "      <th>5478</th>\n",
       "      <td>Ярославское художественное училище</td>\n",
       "      <td>Q4538931</td>\n",
       "      <td>Ярославль</td>\n",
       "      <td>39.876846</td>\n",
       "      <td>57.609852</td>\n",
       "      <td>Ярославское художественное училище</td>\n",
       "      <td>/9j/4AAQSkZJRgABAQAAAQABAAD/2wBDAAUEBAUEAwUFBA...</td>\n",
       "      <td>cars parked on the side of the road in front o...</td>\n",
       "      <td>Учебное заведение</td>\n",
       "    </tr>\n",
       "    <tr>\n",
       "      <th>5479</th>\n",
       "      <td>Ярославское художественное училище</td>\n",
       "      <td>Q4538931</td>\n",
       "      <td>Ярославль</td>\n",
       "      <td>39.876846</td>\n",
       "      <td>57.609852</td>\n",
       "      <td>Ярославское художественное училище</td>\n",
       "      <td>/9j/4AAQSkZJRgABAQAAAQABAAD/2wBDAAUEBAUEAwUFBA...</td>\n",
       "      <td>snowy scene of a large red building with a car...</td>\n",
       "      <td>Учебное заведение</td>\n",
       "    </tr>\n",
       "    <tr>\n",
       "      <th>5480</th>\n",
       "      <td>Ярославское художественное училище</td>\n",
       "      <td>Q4538931</td>\n",
       "      <td>Ярославль</td>\n",
       "      <td>39.876846</td>\n",
       "      <td>57.609852</td>\n",
       "      <td>Ярославское художественное училище</td>\n",
       "      <td>/9j/4AAQSkZJRgABAQAAAQABAAD/2wBDAAUEBAUEAwUFBA...</td>\n",
       "      <td>cars are parked in front of a large red brick ...</td>\n",
       "      <td>Учебное заведение</td>\n",
       "    </tr>\n",
       "    <tr>\n",
       "      <th>5481</th>\n",
       "      <td>Ярославское художественное училище</td>\n",
       "      <td>Q4538931</td>\n",
       "      <td>Ярославль</td>\n",
       "      <td>39.876846</td>\n",
       "      <td>57.609852</td>\n",
       "      <td>Ярославское художественное училище</td>\n",
       "      <td>/9j/4AAQSkZJRgABAQAAAQABAAD/2wBDAAUEBAUEAwUFBA...</td>\n",
       "      <td>cars are parked in front of a large brick buil...</td>\n",
       "      <td>Учебное заведение</td>\n",
       "    </tr>\n",
       "  </tbody>\n",
       "</table>\n",
       "<p>5482 rows × 9 columns</p>\n",
       "</div>"
      ],
      "text/plain": [
       "                                    Name   WikiData          City        Lon  \\\n",
       "0                                 Динамо  Q37996725  Екатеринбург  60.600349   \n",
       "1                                 Динамо  Q37996725  Екатеринбург  60.600349   \n",
       "2                                 Динамо  Q37996725  Екатеринбург  60.600349   \n",
       "3                                 Динамо  Q37996725  Екатеринбург  60.600349   \n",
       "4                                 Динамо  Q37996725  Екатеринбург  60.600349   \n",
       "...                                  ...        ...           ...        ...   \n",
       "5477  Ярославское художественное училище   Q4538931     Ярославль  39.876846   \n",
       "5478  Ярославское художественное училище   Q4538931     Ярославль  39.876846   \n",
       "5479  Ярославское художественное училище   Q4538931     Ярославль  39.876846   \n",
       "5480  Ярославское художественное училище   Q4538931     Ярославль  39.876846   \n",
       "5481  Ярославское художественное училище   Q4538931     Ярославль  39.876846   \n",
       "\n",
       "            Lat                         description  \\\n",
       "0     56.845398       спорткомплекс в Екатеринбурге   \n",
       "1     56.845398       спорткомплекс в Екатеринбурге   \n",
       "2     56.845398       спорткомплекс в Екатеринбурге   \n",
       "3     56.845398       спорткомплекс в Екатеринбурге   \n",
       "4     56.845398       спорткомплекс в Екатеринбурге   \n",
       "...         ...                                 ...   \n",
       "5477  57.609852  Ярославское художественное училище   \n",
       "5478  57.609852  Ярославское художественное училище   \n",
       "5479  57.609852  Ярославское художественное училище   \n",
       "5480  57.609852  Ярославское художественное училище   \n",
       "5481  57.609852  Ярославское художественное училище   \n",
       "\n",
       "                                                  image  \\\n",
       "0     /9j/4AAQSkZJRgABAQAAAQABAAD/2wBDAAUEBAUEAwUFBA...   \n",
       "1     /9j/4AAQSkZJRgABAQAAAQABAAD/2wBDAAUEBAUEAwUFBA...   \n",
       "2     /9j/4AAQSkZJRgABAQAAAQABAAD/2wBDAAUEBAUEAwUFBA...   \n",
       "3     /9j/4AAQSkZJRgABAQAAAQABAAD/2wBDAAUEBAUEAwUFBA...   \n",
       "4     /9j/4AAQSkZJRgABAQAAAQABAAD/2wBDAAUEBAUEAwUFBA...   \n",
       "...                                                 ...   \n",
       "5477  /9j/4AAQSkZJRgABAQAAAQABAAD/2wBDAAUEBAUEAwUFBA...   \n",
       "5478  /9j/4AAQSkZJRgABAQAAAQABAAD/2wBDAAUEBAUEAwUFBA...   \n",
       "5479  /9j/4AAQSkZJRgABAQAAAQABAAD/2wBDAAUEBAUEAwUFBA...   \n",
       "5480  /9j/4AAQSkZJRgABAQAAAQABAAD/2wBDAAUEBAUEAwUFBA...   \n",
       "5481  /9j/4AAQSkZJRgABAQAAAQABAAD/2wBDAAUEBAUEAwUFBA...   \n",
       "\n",
       "                                                 en_txt               category  \n",
       "0     arafed building with a blue and white exterior...  Спортивное сооружение  \n",
       "1     aerial view of a city with a soccer field and ...  Спортивное сооружение  \n",
       "2     a view of a building with a clock tower on top...  Спортивное сооружение  \n",
       "3      arafed building with a blue and white sign on it  Спортивное сооружение  \n",
       "4     arafed building with a blue and white sign on ...  Спортивное сооружение  \n",
       "...                                                 ...                    ...  \n",
       "5477  arafed building with a large arched window and...      Учебное заведение  \n",
       "5478  cars parked on the side of the road in front o...      Учебное заведение  \n",
       "5479  snowy scene of a large red building with a car...      Учебное заведение  \n",
       "5480  cars are parked in front of a large red brick ...      Учебное заведение  \n",
       "5481  cars are parked in front of a large brick buil...      Учебное заведение  \n",
       "\n",
       "[5482 rows x 9 columns]"
      ]
     },
     "execution_count": 7,
     "metadata": {},
     "output_type": "execute_result"
    }
   ],
   "source": [
    "df"
   ]
  },
  {
   "cell_type": "code",
   "execution_count": 11,
   "id": "9aa4303b-02cf-4b7d-b16a-8e845f289825",
   "metadata": {},
   "outputs": [
    {
     "data": {
      "text/plain": [
       "(5482, 9)"
      ]
     },
     "execution_count": 11,
     "metadata": {},
     "output_type": "execute_result"
    }
   ],
   "source": [
    "df.shape"
   ]
  },
  {
   "cell_type": "markdown",
   "id": "e4e066f2-34c5-4c95-8afb-9cdb19f0ffed",
   "metadata": {},
   "source": [
    "### Добавление перевода"
   ]
  },
  {
   "cell_type": "code",
   "execution_count": 14,
   "id": "8e0e57fa-308f-40e4-a406-4addaf4aa34e",
   "metadata": {},
   "outputs": [],
   "source": [
    "# !pip install translatepy"
   ]
  },
  {
   "cell_type": "code",
   "execution_count": 16,
   "id": "1856dba8-7f23-467a-8095-b8291d66c530",
   "metadata": {},
   "outputs": [
    {
     "name": "stderr",
     "output_type": "stream",
     "text": [
      "\n",
      "KeyboardInterrupt\n",
      "\n"
     ]
    }
   ],
   "source": [
    "from translatepy import Translator\n",
    "translator = Translator()\n",
    "df['ru_txt'] = df['en_txt'].apply(lambda x: translator.translate(x, \"Russian\").result)"
   ]
  },
  {
   "cell_type": "code",
   "execution_count": null,
   "id": "ae31678d-fd95-44bf-bdc6-f4015d5e7df0",
   "metadata": {},
   "outputs": [],
   "source": [
    "df.head(5)"
   ]
  },
  {
   "cell_type": "code",
   "execution_count": null,
   "id": "6b304c76-64fe-452c-8217-ae69d962b2f5",
   "metadata": {},
   "outputs": [],
   "source": [
    "df.to_csv('data/new_hack.csv', sep=',', index=False)"
   ]
  },
  {
   "cell_type": "markdown",
   "id": "cc5732bb-cb5e-40c2-8465-18cdd6917151",
   "metadata": {},
   "source": [
    "### Добавление стольца с описание места для моделей"
   ]
  },
  {
   "cell_type": "code",
   "execution_count": 20,
   "id": "2fe0c11f-f9c6-44ec-af72-3382b137c54f",
   "metadata": {},
   "outputs": [],
   "source": [
    "import re\n",
    "\n",
    "def remove_special_chars(text):\n",
    "  \"\"\"\n",
    "  Функция для удаления спецсимволов\n",
    "  Args:\n",
    "    text(string): строка требующая очитски от спец. символов\n",
    "  Returns:\n",
    "    string:\n",
    "  \"\"\"\n",
    "  return re.sub(r'[^\\w\\s]', '', text)"
   ]
  },
  {
   "cell_type": "code",
   "execution_count": null,
   "id": "79f89c01-b485-475b-83f7-f6c3d65af73f",
   "metadata": {},
   "outputs": [],
   "source": [
    "df['clip_lables'] = (\n",
    "    df['category'].astype(str) + ' ' +\n",
    "    df['Name'].astype(str) + ' в ' +\n",
    "    df['City'].astype(str) + ' ,где ' +\n",
    "    df['ru_txt'].astype(str)\n",
    ").apply(remove_special_chars)"
   ]
  }
 ],
 "metadata": {
  "kernelspec": {
   "display_name": "Python 3 (ipykernel)",
   "language": "python",
   "name": "python3"
  },
  "language_info": {
   "codemirror_mode": {
    "name": "ipython",
    "version": 3
   },
   "file_extension": ".py",
   "mimetype": "text/x-python",
   "name": "python",
   "nbconvert_exporter": "python",
   "pygments_lexer": "ipython3",
   "version": "3.11.5"
  }
 },
 "nbformat": 4,
 "nbformat_minor": 5
}
