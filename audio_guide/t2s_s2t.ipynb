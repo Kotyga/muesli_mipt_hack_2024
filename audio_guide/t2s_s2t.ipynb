{
  "cells": [
    {
      "cell_type": "markdown",
      "id": "20c34346-5299-4309-94ef-d7b915d838d1",
      "metadata": {
        "id": "20c34346-5299-4309-94ef-d7b915d838d1"
      },
      "source": [
        "### Зависимости"
      ]
    },
    {
      "cell_type": "code",
      "execution_count": null,
      "id": "85dc5178-8af0-494a-95d9-9ff64e1e3588",
      "metadata": {
        "id": "85dc5178-8af0-494a-95d9-9ff64e1e3588"
      },
      "outputs": [],
      "source": [
        "!pip install httpx aiofiles"
      ]
    },
    {
      "cell_type": "markdown",
      "id": "3ee0e756-2bfb-4aa6-878c-588aee491efa",
      "metadata": {
        "id": "3ee0e756-2bfb-4aa6-878c-588aee491efa"
      },
      "source": [
        "### Импорты"
      ]
    },
    {
      "cell_type": "code",
      "execution_count": null,
      "id": "259df045-7471-4c35-9af2-fd876eaf1353",
      "metadata": {
        "id": "259df045-7471-4c35-9af2-fd876eaf1353"
      },
      "outputs": [],
      "source": [
        "import httpx\n",
        "from datetime import datetime as dt\n",
        "from uuid import uuid4\n",
        "import IPython\n",
        "import aiofiles as aiof"
      ]
    },
    {
      "cell_type": "code",
      "execution_count": null,
      "id": "38caa7eb-c51b-4adb-8b54-60bd11832d6d",
      "metadata": {
        "id": "38caa7eb-c51b-4adb-8b54-60bd11832d6d"
      },
      "outputs": [],
      "source": [
        "AUTH_KEY = (\n",
        "    ...\n",
        ")\n",
        "SBER_API_SCOPE = \"SALUTE_SPEECH_PERS\"\n",
        "TOKEN = {\"access_token\": \"\", \"expires_at\": 0}\n",
        "SBER_OAUTH_URL = \"https://ngw.devices.sberbank.ru:9443/api/v2/oauth\"\n",
        "SBER_SPEACH_URL = \"https://smartspeech.sber.ru/rest/v1\"\n",
        "SPEECH_FILE_FORMAT = \"opus\"\n",
        "SPEECH_FILE_EXTENTION = \"ogg\"\n",
        "SPEECH_CONTENT_TYPE = \"audio/ogg;codecs=opus\"\n",
        "VOICE_TYPE=\"May_24000\""
      ]
    },
    {
      "cell_type": "markdown",
      "source": [
        "### Функция получения `access_token`а\n",
        "\n",
        "обновляет `access_token` если он не определён или его срок истёк"
      ],
      "metadata": {
        "id": "pH0gJRUgploA"
      },
      "id": "pH0gJRUgploA"
    },
    {
      "cell_type": "code",
      "execution_count": null,
      "id": "28355bb2-5ce4-4dad-ac9e-32cd47c8b145",
      "metadata": {
        "id": "28355bb2-5ce4-4dad-ac9e-32cd47c8b145"
      },
      "outputs": [],
      "source": [
        "async def get_access_token() -> str:\n",
        "    if (\n",
        "        not TOKEN[\"access_token\"]\n",
        "        or dt.fromtimestamp(TOKEN[\"expires_at\"] / 1000) < dt.now()\n",
        "    ):\n",
        "        headers = {\n",
        "            \"Content-Type\": \"application/x-www-form-urlencoded\",\n",
        "            \"Accept\": \"application/json\",\n",
        "            \"RqUID\": str(uuid4()),\n",
        "            \"Authorization\": f\"Basic {AUTH_KEY}\",\n",
        "        }\n",
        "        async with httpx.AsyncClient(verify=False) as client:\n",
        "            resp = await client.post(\n",
        "                url=SBER_OAUTH_URL,\n",
        "                headers=headers,\n",
        "                data={\"scope\": SBER_API_SCOPE},\n",
        "            )\n",
        "            if resp.status_code != 200:\n",
        "                print(resp.content)\n",
        "                return \"\"\n",
        "        token = resp.json()\n",
        "        TOKEN[\"access_token\"] = token[\"access_token\"]\n",
        "        TOKEN[\"expires_at\"] = token[\"expires_at\"]\n",
        "    return TOKEN[\"access_token\"]"
      ]
    },
    {
      "cell_type": "markdown",
      "source": [
        "### Функция преобразования текста в аудиофайл\n",
        "\n",
        "принимает `text` - текст для преобразования в аудиофайл\n",
        "\n",
        "возвращает `file_name` - имя сгенерированного аудиофайла"
      ],
      "metadata": {
        "id": "32jSkN4UpwL0"
      },
      "id": "32jSkN4UpwL0"
    },
    {
      "cell_type": "code",
      "execution_count": null,
      "id": "549cea46-0f4e-4486-b878-8ef2e110d217",
      "metadata": {
        "id": "549cea46-0f4e-4486-b878-8ef2e110d217"
      },
      "outputs": [],
      "source": [
        "async def text_to_speech(text: str) -> str:\n",
        "    acc_token: str = await get_access_token()\n",
        "    if not acc_token:\n",
        "        print(f\"Authentication error\")\n",
        "        return \"\"\n",
        "    headers = {\n",
        "        \"Authorization\": f\"Bearer {acc_token}\",\n",
        "        \"Content-Type\": \"application/text\",\n",
        "    }\n",
        "    params = {\n",
        "        \"format\": SPEECH_FILE_FORMAT,\n",
        "        \"voice\": VOICE_TYPE,\n",
        "    }\n",
        "    async with httpx.AsyncClient(verify=False) as client:\n",
        "        resp = await client.post(\n",
        "            url=f\"{SBER_SPEACH_URL}/text:synthesize\",\n",
        "            headers=headers,\n",
        "            params=params,\n",
        "            content=text,\n",
        "        )\n",
        "        if resp.status_code != 200:\n",
        "            print(resp.content)\n",
        "            return \"\"\n",
        "    file_name = f\"speech_{uuid4()}.ogg\"\n",
        "    async with aiof.open(file_name, \"wb\") as f:\n",
        "        await f.write(resp.content)\n",
        "        await f.flush()\n",
        "    return file_name"
      ]
    },
    {
      "cell_type": "markdown",
      "source": [
        "### Функция для распознования текста из аудиофайла\n",
        "\n",
        "принимает:\n",
        "\n",
        "`speech_file` - имя файла для распознования\n",
        "\n",
        "`language` - язык для распознования (доступен русский `ru-RU`, английский `en-US` и казахский `kk-KZ`)\n",
        "\n",
        "возвращает:\n",
        "\n",
        "`speech_text` - распознанный текст"
      ],
      "metadata": {
        "id": "cCpKHfd-qRf4"
      },
      "id": "cCpKHfd-qRf4"
    },
    {
      "cell_type": "code",
      "execution_count": null,
      "id": "d52f4867-5024-4b6d-8d1e-eadd417881fa",
      "metadata": {
        "id": "d52f4867-5024-4b6d-8d1e-eadd417881fa"
      },
      "outputs": [],
      "source": [
        "async def speech_to_text(speech_file: str, language: str) -> str:\n",
        "    acc_token: str = await get_access_token()\n",
        "    if not acc_token:\n",
        "        print(f\"Authentication error\")\n",
        "        return \"\"\n",
        "    headers = {\n",
        "        \"Authorization\": f\"Bearer {acc_token}\",\n",
        "        \"Content-Type\": SPEECH_CONTENT_TYPE,\n",
        "    }\n",
        "    params = {\n",
        "        \"language\": language,\n",
        "    }\n",
        "    data = b\"\"\n",
        "    async with aiof.open(speech_file, \"rb\") as f:\n",
        "        data = await f.read()\n",
        "    async with httpx.AsyncClient(verify=False) as client:\n",
        "        resp = await client.post(\n",
        "            url=f\"{SBER_SPEACH_URL}/speech:recognize\",\n",
        "            headers=headers,\n",
        "            params=params,\n",
        "            content=data,\n",
        "        )\n",
        "        if resp.status_code != 200:\n",
        "            print(resp.content)\n",
        "            return \"\"\n",
        "    speech_text: str = resp.json()[\"result\"][0]\n",
        "    return speech_text"
      ]
    },
    {
      "cell_type": "markdown",
      "source": [
        "### Примеры использования"
      ],
      "metadata": {
        "id": "lwBt9jC-q3X6"
      },
      "id": "lwBt9jC-q3X6"
    },
    {
      "cell_type": "code",
      "execution_count": null,
      "id": "84bc0bb0-69d7-47bc-bef7-aab6b638050c",
      "metadata": {
        "id": "84bc0bb0-69d7-47bc-bef7-aab6b638050c"
      },
      "outputs": [],
      "source": [
        "# example of speech generation from text\n",
        "speech_file_name: str = await text_to_speech(\n",
        "    \"Расскажи про самый большой памятник Ленину среди четырёх городов \"\n",
        "    \"России, таких как Екатеринбург, Нижний Новгород, Владимир, Ярославль.\"\n",
        ")\n",
        "print(speech_file_name)\n",
        "# example of speech recognition from audio file\n",
        "recognized_text: str = await speech_to_text(speech_file_name, \"ru-RU\")\n",
        "print(f\"Recognized text is: {recognized_text}\")\n",
        "IPython.display.Audio(speech_file_name)"
      ]
    }
  ],
  "metadata": {
    "kernelspec": {
      "display_name": "Python 3 (ipykernel)",
      "language": "python",
      "name": "python3"
    },
    "language_info": {
      "codemirror_mode": {
        "name": "ipython",
        "version": 3
      },
      "file_extension": ".py",
      "mimetype": "text/x-python",
      "name": "python",
      "nbconvert_exporter": "python",
      "pygments_lexer": "ipython3",
      "version": "3.12.7"
    },
    "colab": {
      "provenance": []
    }
  },
  "nbformat": 4,
  "nbformat_minor": 5
}